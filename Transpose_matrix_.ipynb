{
  "nbformat": 4,
  "nbformat_minor": 0,
  "metadata": {
    "colab": {
      "name": "Transpose_matrix.",
      "provenance": [],
      "authorship_tag": "ABX9TyPaUvBNf3p6bWwoRHRLkg4W",
      "include_colab_link": true
    },
    "kernelspec": {
      "name": "python3",
      "display_name": "Python 3"
    }
  },
  "cells": [
    {
      "cell_type": "markdown",
      "metadata": {
        "id": "view-in-github",
        "colab_type": "text"
      },
      "source": [
        "<a href=\"https://colab.research.google.com/github/krishbhowmick/HacklabSolutionsPrivateLimited_Task/blob/main/Transpose_matrix_.ipynb\" target=\"_parent\"><img src=\"https://colab.research.google.com/assets/colab-badge.svg\" alt=\"Open In Colab\"/></a>"
      ]
    },
    {
      "cell_type": "code",
      "metadata": {
        "id": "DvjJ03OLEovq"
      },
      "source": [
        "X = [[10,12],[14,15], [17,18]] "
      ],
      "execution_count": 11,
      "outputs": []
    },
    {
      "cell_type": "code",
      "metadata": {
        "id": "EkOjNF1tEwWW"
      },
      "source": [
        "Y = [[0,0,0], [0,0,0]]  "
      ],
      "execution_count": 12,
      "outputs": []
    },
    {
      "cell_type": "code",
      "metadata": {
        "id": "EzM9ycHwEwcH"
      },
      "source": [
        "# iterate through rows  \n",
        "for i in range(len(X)):  \n",
        "   for j in range(len(X[0])):\n",
        "     Y[j][i] = X[i][j]  \n",
        "  "
      ],
      "execution_count": 13,
      "outputs": []
    },
    {
      "cell_type": "code",
      "metadata": {
        "colab": {
          "base_uri": "https://localhost:8080/"
        },
        "id": "ra93TBWYEwYi",
        "outputId": "3523a9a1-bc9d-4074-f023-34ae472ec299"
      },
      "source": [
        "for y in Y:  \n",
        "   print(y) "
      ],
      "execution_count": 14,
      "outputs": [
        {
          "output_type": "stream",
          "text": [
            "[10, 14, 17]\n",
            "[12, 15, 18]\n"
          ],
          "name": "stdout"
        }
      ]
    },
    {
      "cell_type": "code",
      "metadata": {
        "id": "Rla6cFiCEwmK"
      },
      "source": [
        ""
      ],
      "execution_count": null,
      "outputs": []
    },
    {
      "cell_type": "code",
      "metadata": {
        "id": "AFgwo3xlEwpC"
      },
      "source": [
        ""
      ],
      "execution_count": null,
      "outputs": []
    }
  ]
}